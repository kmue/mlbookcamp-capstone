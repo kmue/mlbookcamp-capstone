{
 "cells": [
  {
   "cell_type": "code",
   "execution_count": 1,
   "id": "e283faa7",
   "metadata": {},
   "outputs": [
    {
     "name": "stdout",
     "output_type": "stream",
     "text": [
      "Downloading kitchenware-classification.zip to /home/jovyan/workspace/mlbookcamp-capstone\n",
      " 99%|██████████████████████████████████████▋| 1.62G/1.63G [00:11<00:00, 166MB/s]\n",
      "100%|███████████████████████████████████████| 1.63G/1.63G [00:11<00:00, 153MB/s]\n",
      "mkdir: cannot create directory ‘data’: File exists\n"
     ]
    }
   ],
   "source": [
    "!kaggle competitions download -c kitchenware-classification\n",
    "!mkdir data\n",
    "!unzip kitchenware-classification.zip -d data > /dev/null\n",
    "!rm kitchenware-classification.zip"
   ]
  },
  {
   "cell_type": "code",
   "execution_count": null,
   "id": "88b5cd23",
   "metadata": {},
   "outputs": [],
   "source": []
  }
 ],
 "metadata": {
  "kernelspec": {
   "display_name": "saturn (Python 3)",
   "language": "python",
   "name": "python3"
  },
  "language_info": {
   "codemirror_mode": {
    "name": "ipython",
    "version": 3
   },
   "file_extension": ".py",
   "mimetype": "text/x-python",
   "name": "python",
   "nbconvert_exporter": "python",
   "pygments_lexer": "ipython3",
   "version": "3.9.15"
  }
 },
 "nbformat": 4,
 "nbformat_minor": 5
}
